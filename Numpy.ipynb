{
  "nbformat": 4,
  "nbformat_minor": 0,
  "metadata": {
    "colab": {
      "provenance": [],
      "authorship_tag": "ABX9TyPPjoSX3lBScI4qq0Kgb9pj",
      "include_colab_link": true
    },
    "kernelspec": {
      "name": "python3",
      "display_name": "Python 3"
    },
    "language_info": {
      "name": "python"
    }
  },
  "cells": [
    {
      "cell_type": "markdown",
      "metadata": {
        "id": "view-in-github",
        "colab_type": "text"
      },
      "source": [
        "<a href=\"https://colab.research.google.com/github/EuKlem/Numpy-Python/blob/main/Numpy.ipynb\" target=\"_parent\"><img src=\"https://colab.research.google.com/assets/colab-badge.svg\" alt=\"Open In Colab\"/></a>"
      ]
    },
    {
      "cell_type": "markdown",
      "source": [
        "Numpy: **Criando arrays com Numpy**"
      ],
      "metadata": {
        "id": "fVNTuaq14VQ6"
      }
    },
    {
      "cell_type": "code",
      "execution_count": null,
      "metadata": {
        "id": "fH0rvfzK2vvD"
      },
      "outputs": [],
      "source": [
        "import numpy as np\n",
        "\n",
        "#Exercício: 1\n",
        "data = [1, 2, 3, 4, 5, 6]\n",
        "\n",
        "array = np.array(data)\n",
        "\n",
        "\n",
        "print(type(array))\n",
        "print(array)"
      ]
    },
    {
      "cell_type": "code",
      "source": [
        "import numpy as np\n",
        "\n",
        "#Exercício: 2\n",
        "data = [[1, 2, 3],[4,5,6]]\n",
        "\n",
        "array = np.array(data)\n",
        "\n",
        "print(array)"
      ],
      "metadata": {
        "id": "H8PePae44yBr"
      },
      "execution_count": null,
      "outputs": []
    },
    {
      "cell_type": "markdown",
      "source": [
        "Numpy: **Atributos de arrays**"
      ],
      "metadata": {
        "id": "PEA5Cj4r7Z8Z"
      }
    },
    {
      "cell_type": "code",
      "source": [
        "import numpy as np\n",
        "\n",
        "#Exercício: 3\n",
        "data = [[1,2,3],[4,5,6]]\n",
        "\n",
        "array = np.array(data)\n",
        "\n",
        "print(array.ndim)\n",
        "print(array.shape"
      ],
      "metadata": {
        "id": "0i3pdFG25qwR"
      },
      "execution_count": null,
      "outputs": []
    },
    {
      "cell_type": "code",
      "source": [
        "import numpy as geek\n",
        "\n",
        "#Exercício: 4\n",
        "arr = [[1, 2, 3],[4,5,6]]\n",
        "\n",
        "dimensao = geek.ndim(arr)\n",
        "\n",
        "print(dimensao"
      ],
      "metadata": {
        "id": "iFl2XO2P7n_H"
      },
      "execution_count": null,
      "outputs": []
    },
    {
      "cell_type": "markdown",
      "source": [
        "Numpy: **Gerando arrays**"
      ],
      "metadata": {
        "id": "Hlx6DRAX7t4S"
      }
    },
    {
      "cell_type": "code",
      "source": [
        "import numpy as np\n",
        "\n",
        "#Exercício: 5\n",
        "\n",
        "print(np.zeros(10))\n",
        "print(np.ones(10))\n",
        "print(np.arange(20))"
      ],
      "metadata": {
        "id": "V7kviAGx7xh5"
      },
      "execution_count": null,
      "outputs": []
    },
    {
      "cell_type": "markdown",
      "source": [
        "Numpy: **Gerando arrays com métodos Built-in**"
      ],
      "metadata": {
        "id": "y5kePfur746H"
      }
    },
    {
      "cell_type": "code",
      "source": [
        "import numpy as np\n",
        "\n",
        "#Exercício: 6\n",
        "\n",
        "print(np.arange(5,10,1))\n",
        "print(np.arange(5,10,2))\n",
        "print(np.arange(5,10,3))"
      ],
      "metadata": {
        "id": "sAmie0te8CC2"
      },
      "execution_count": null,
      "outputs": []
    },
    {
      "cell_type": "markdown",
      "source": [
        "Numpy: **Arrays aleatórios Unidimensial**"
      ],
      "metadata": {
        "id": "rGHuyVqX8Nia"
      }
    },
    {
      "cell_type": "code",
      "source": [
        "import numpy as np\n",
        "\n",
        "#Exercício: 7\n",
        "\n",
        "print(np.random.rand(1))\n",
        "print(np.random.rand(2))\n",
        "print(np.random.rand(3))"
      ],
      "metadata": {
        "id": "LhQMofCr8V96"
      },
      "execution_count": null,
      "outputs": []
    },
    {
      "cell_type": "code",
      "source": [
        "import numpy as np\n",
        "\n",
        "#Deixando com números inteiros:\n",
        "\n",
        "x = np.random.randint(100, size = (6))\n",
        "print(x)"
      ],
      "metadata": {
        "id": "mgZwteDN8pvw"
      },
      "execution_count": null,
      "outputs": []
    },
    {
      "cell_type": "markdown",
      "source": [
        "Numpy: **Arrays aleatórios Multidimensial**"
      ],
      "metadata": {
        "id": "tC-8mDgf8uaO"
      }
    },
    {
      "cell_type": "code",
      "source": [
        "import numpy as np\n",
        "\n",
        "#Exercício: 8\n",
        "\n",
        "print(np.random.rand(2,2))\n",
        "print(np.random.rand(2,4))"
      ],
      "metadata": {
        "id": "18kR19C683Yf"
      },
      "execution_count": null,
      "outputs": []
    },
    {
      "cell_type": "markdown",
      "source": [
        "Numpy: **Atributos Max() e Min()**"
      ],
      "metadata": {
        "id": "sUgcVgv286ZG"
      }
    },
    {
      "cell_type": "code",
      "source": [
        "import numpy as np\n",
        "\n",
        "#Exercício: 9\n",
        "\n",
        "vetor = np.random.rand(3)\n",
        "\n",
        "print(vetor)\n",
        "print(vetor.max())\n",
        "print(vetor.min())"
      ],
      "metadata": {
        "id": "2J5qCtLG9Eb_"
      },
      "execution_count": null,
      "outputs": []
    },
    {
      "cell_type": "code",
      "source": [
        "import numpy as np\n",
        "\n",
        "#Usando em números inteiros\n",
        "vetor = np.random.randint(200, size = (5))\n",
        "\n",
        "print(vetor)\n",
        "print(vetor.max())\n",
        "print(vetor.min())"
      ],
      "metadata": {
        "id": "MbjJZPar9MNe"
      },
      "execution_count": null,
      "outputs": []
    },
    {
      "cell_type": "markdown",
      "source": [
        "Numpy: **Atributo dtype**"
      ],
      "metadata": {
        "id": "UWgaCOZN9Z2u"
      }
    },
    {
      "cell_type": "code",
      "source": [
        "import numpy as np\n",
        "\n",
        "#Exercício: 10\n",
        "\n",
        "vetor = np.random.rand(3)\n",
        "print(vetor.dtype)"
      ],
      "metadata": {
        "id": "IEVVdM4-9faH"
      },
      "execution_count": null,
      "outputs": []
    },
    {
      "cell_type": "markdown",
      "source": [
        "Numpy: **Atributo Slicing**"
      ],
      "metadata": {
        "id": "GbEf-jD-9pb_"
      }
    },
    {
      "cell_type": "code",
      "source": [
        "import numpy as np\n",
        "\n",
        "#Exercício: 11\n",
        "\n",
        "vetor = np.arange(1,20,1)\n",
        "print(vetor)\n",
        "\n",
        "vetor[0:6] = 100\n",
        "print(vetor)"
      ],
      "metadata": {
        "id": "LrZPqkS49uCa"
      },
      "execution_count": null,
      "outputs": []
    },
    {
      "cell_type": "code",
      "source": [
        "import numpy as np\n",
        "\n",
        "#Exercício: 12\n",
        "\n",
        "vetor = np.arange(1, 20, 1)\n",
        "print(vetor)\n",
        "\n",
        "vetor1 = vetor[0:6]\n",
        "print(vetor1)"
      ],
      "metadata": {
        "id": "S-01Yh8E92iP"
      },
      "execution_count": null,
      "outputs": []
    },
    {
      "cell_type": "markdown",
      "source": [
        "Numpy: **Funções Matemáticas**"
      ],
      "metadata": {
        "id": "IlwAskk-9-sR"
      }
    },
    {
      "cell_type": "code",
      "source": [
        "import numpy as np\n",
        "\n",
        "#Exercício: 13\n",
        "\n",
        "vetor = np.arange(4)\n",
        "print(np.exp(vetor))\n",
        "print(np.sqrt(vetor))"
      ],
      "metadata": {
        "id": "z_ixHNBk-EFG"
      },
      "execution_count": null,
      "outputs": []
    },
    {
      "cell_type": "markdown",
      "source": [
        "Numpy: **File's Arrays - genfromtxt**"
      ],
      "metadata": {
        "id": "EVUGX4SO-joI"
      }
    },
    {
      "cell_type": "code",
      "source": [
        "from numpy import genfromtxt\n",
        "\n",
        "data = genfromtxt(\"array.txt\", delimiter =\",\")\n",
        "print(data)"
      ],
      "metadata": {
        "id": "2hWftvcw-uzw"
      },
      "execution_count": null,
      "outputs": []
    },
    {
      "cell_type": "markdown",
      "source": [
        "Numpy: **File's Arrays - loadtxt**"
      ],
      "metadata": {
        "id": "XEPk_jhY-4x4"
      }
    },
    {
      "cell_type": "code",
      "source": [
        "import numpy as np\n",
        "\n",
        "data = np.loadtxt(\"array.txt\", dtype = int, delimiter =\",\")\n",
        "print(data)"
      ],
      "metadata": {
        "id": "tVXIpaVu_G46"
      },
      "execution_count": null,
      "outputs": []
    }
  ]
}